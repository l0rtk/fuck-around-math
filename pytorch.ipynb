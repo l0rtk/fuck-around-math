{
 "cells": [
  {
   "cell_type": "code",
   "execution_count": 1,
   "id": "b0c9d192-c24d-4e1d-b94c-6e0fcf09dd8c",
   "metadata": {},
   "outputs": [],
   "source": [
    "import torch\n",
    "import math"
   ]
  },
  {
   "cell_type": "code",
   "execution_count": 9,
   "id": "37302343-a97f-415c-950a-b1982c7949f2",
   "metadata": {},
   "outputs": [],
   "source": [
    "# The torch.empty() call allocates memory for the tensor, but does not initialize it with any values \n",
    "# so what you’re seeing is whatever was in memory at the time of allocation.\n",
    "x = torch.empty(3,4)"
   ]
  },
  {
   "cell_type": "code",
   "execution_count": 10,
   "id": "4cc5cd11-e244-4f69-b8fb-9a08c4070c4e",
   "metadata": {},
   "outputs": [],
   "source": [
    "# Zero matrix\n",
    "zeros = torch.zeros(2,3)\n",
    "\n",
    "# Ones\n",
    "ones = torch.ones(2,3)\n",
    "\n",
    "# Random \n",
    "torch.manual_seed(1234)\n",
    "random = torch.rand(2,3)\n"
   ]
  },
  {
   "cell_type": "code",
   "execution_count": 13,
   "id": "0ef9d5d2-3270-44ae-8c0c-3e43bb02d39a",
   "metadata": {},
   "outputs": [
    {
     "name": "stdout",
     "output_type": "stream",
     "text": [
      "tensor([[0.0290, 0.4019, 0.2598],\n",
      "        [0.3666, 0.0583, 0.7006]])\n",
      "tensor([[0.0518, 0.4681, 0.6738],\n",
      "        [0.3315, 0.7837, 0.5631]])\n",
      "tensor([[0.0290, 0.4019, 0.2598],\n",
      "        [0.3666, 0.0583, 0.7006]])\n",
      "tensor([[0.0518, 0.4681, 0.6738],\n",
      "        [0.3315, 0.7837, 0.5631]])\n"
     ]
    }
   ],
   "source": [
    "torch.manual_seed(1234)\n",
    "r1 = torch.rand(2,3)\n",
    "print(r1)\n",
    "\n",
    "r2 = torch.rand(2,3)\n",
    "print(r2)\n",
    "\n",
    "torch.manual_seed(1234)\n",
    "r3 = torch.rand(2,3)\n",
    "print(r3)\n",
    "\n",
    "r4 = torch.rand(2,3)\n",
    "print(r4)\n",
    "\n",
    "# r1 and r3 are identical like r2 and r4"
   ]
  },
  {
   "cell_type": "code",
   "execution_count": 14,
   "id": "a196574d-72ac-4309-a7ed-ca27443b74d1",
   "metadata": {},
   "outputs": [
    {
     "name": "stdout",
     "output_type": "stream",
     "text": [
      "torch.Size([2, 2, 3])\n",
      "tensor([[[1.5766e-19, 1.0256e-08, 1.0255e-08],\n",
      "         [3.1644e+12, 6.9362e-07, 6.7140e-07]],\n",
      "\n",
      "        [[6.5923e-10, 1.3033e+16, 2.1707e-18],\n",
      "         [7.0952e+22, 1.7748e+28, 1.8176e+31]]])\n"
     ]
    }
   ],
   "source": [
    "# shapes\n",
    "x = torch.empty(2,2,3)\n",
    "print(x.shape)\n",
    "print(x)"
   ]
  },
  {
   "cell_type": "code",
   "execution_count": 16,
   "id": "8cd16d06-d8ce-493b-b5fc-55eba997038e",
   "metadata": {},
   "outputs": [
    {
     "name": "stdout",
     "output_type": "stream",
     "text": [
      "torch.Size([2, 2, 3])\n",
      "tensor([[[0.9665, 0.7399, 0.4517],\n",
      "         [0.4757, 0.7842, 0.1525]],\n",
      "\n",
      "        [[0.6662, 0.3343, 0.7893],\n",
      "         [0.3216, 0.5247, 0.6688]]])\n"
     ]
    }
   ],
   "source": [
    "rx = torch.rand_like(x)\n",
    "print(rx.shape)\n",
    "print(rx)"
   ]
  },
  {
   "cell_type": "code",
   "execution_count": 17,
   "id": "8fc371db-99be-471d-a58b-c1ad44dae66f",
   "metadata": {},
   "outputs": [
    {
     "name": "stdout",
     "output_type": "stream",
     "text": [
      "tensor([[1, 1, 1],\n",
      "        [1, 1, 1]], dtype=torch.int16)\n"
     ]
    }
   ],
   "source": [
    "# tensor data types\n",
    "x = torch.ones((2,3), dtype=torch.int16)\n",
    "print(x)"
   ]
  },
  {
   "cell_type": "code",
   "execution_count": 27,
   "id": "f5065842-b437-4e72-bf5e-fcba1683481d",
   "metadata": {},
   "outputs": [
    {
     "name": "stdout",
     "output_type": "stream",
     "text": [
      "tensor([[52.0624,  2.7672, 99.3424],\n",
      "        [78.2850, 62.6016, 94.2548]], dtype=torch.float64)\n"
     ]
    }
   ],
   "source": [
    "y = torch.rand((2,3), dtype=torch.float64)*100\n",
    "print(y)"
   ]
  },
  {
   "cell_type": "code",
   "execution_count": 28,
   "id": "e7ffc8c9-9d02-4076-bad0-cf2af95ba339",
   "metadata": {},
   "outputs": [
    {
     "name": "stdout",
     "output_type": "stream",
     "text": [
      "tensor([[52,  2, 99],\n",
      "        [78, 62, 94]], dtype=torch.int32)\n"
     ]
    }
   ],
   "source": [
    "z = y.to(torch.int32)\n",
    "print(z)"
   ]
  },
  {
   "cell_type": "code",
   "execution_count": 34,
   "id": "b99b8e3a-ded6-4e81-ab69-b3d4c2715100",
   "metadata": {},
   "outputs": [
    {
     "name": "stdout",
     "output_type": "stream",
     "text": [
      "tensor([[1., 1.],\n",
      "        [1., 1.]])\n",
      "tensor([[2., 2.],\n",
      "        [2., 2.]])\n",
      "tensor([[3., 3.],\n",
      "        [3., 3.]])\n",
      "tensor([[4., 4.],\n",
      "        [4., 4.]])\n",
      "tensor([[1.4142, 1.4142],\n",
      "        [1.4142, 1.4142]])\n"
     ]
    }
   ],
   "source": [
    "#math\n",
    "ones = torch.zeros(2, 2) + 1\n",
    "twos = torch.ones(2, 2) * 2\n",
    "threes = (torch.ones(2, 2) * 7 - 1) / 2\n",
    "fours = twos ** 2\n",
    "sqrt2s = twos ** 0.5\n",
    "\n",
    "print(ones)\n",
    "print(twos)\n",
    "print(threes)\n",
    "print(fours)\n",
    "print(sqrt2s)"
   ]
  },
  {
   "cell_type": "code",
   "execution_count": 40,
   "id": "26177cf8-8309-424f-9b44-b333fd8bd00f",
   "metadata": {},
   "outputs": [
    {
     "name": "stdout",
     "output_type": "stream",
     "text": [
      "tensor([[ 2.,  4.],\n",
      "        [ 8., 16.]])\n",
      "tensor([[1024.,  256.],\n",
      "        [  64.,   16.]])\n"
     ]
    }
   ],
   "source": [
    "#powers \n",
    "\n",
    "p2 = twos**torch.tensor([[1,2],[3,4]])\n",
    "print(p2)\n",
    "\n",
    "p4 = fours**torch.tensor([[5,4],[3,2]])\n",
    "print(p4)"
   ]
  },
  {
   "cell_type": "code",
   "execution_count": 45,
   "id": "ae120c7c-fef3-48d6-9fcd-dcac009acefc",
   "metadata": {},
   "outputs": [
    {
     "ename": "RuntimeError",
     "evalue": "The size of tensor a (3) must match the size of tensor b (2) at non-singleton dimension 1",
     "output_type": "error",
     "traceback": [
      "\u001b[0;31m---------------------------------------------------------------------------\u001b[0m",
      "\u001b[0;31mRuntimeError\u001b[0m                              Traceback (most recent call last)",
      "Cell \u001b[0;32mIn [45], line 3\u001b[0m\n\u001b[1;32m      1\u001b[0m a \u001b[38;5;241m=\u001b[39m torch\u001b[38;5;241m.\u001b[39mrand(\u001b[38;5;241m2\u001b[39m,\u001b[38;5;241m3\u001b[39m)\n\u001b[1;32m      2\u001b[0m b \u001b[38;5;241m=\u001b[39m torch\u001b[38;5;241m.\u001b[39mrand(\u001b[38;5;241m3\u001b[39m,\u001b[38;5;241m2\u001b[39m)\n\u001b[0;32m----> 3\u001b[0m \u001b[38;5;28mprint\u001b[39m(\u001b[43ma\u001b[49m\u001b[38;5;241;43m*\u001b[39;49m\u001b[43mb\u001b[49m)\n",
      "\u001b[0;31mRuntimeError\u001b[0m: The size of tensor a (3) must match the size of tensor b (2) at non-singleton dimension 1"
     ]
    }
   ],
   "source": [
    "a = torch.rand(2,3)\n",
    "b = torch.rand(3,2)\n",
    "print(a*b)"
   ]
  },
  {
   "cell_type": "code",
   "execution_count": 50,
   "id": "10c1dcbb-9b04-4522-b6eb-450e2275ca34",
   "metadata": {},
   "outputs": [
    {
     "name": "stdout",
     "output_type": "stream",
     "text": [
      "tensor([[0.3819, 0.8610, 0.2775, 0.9121],\n",
      "        [0.9980, 0.8427, 0.7868, 0.6861]])\n",
      "----\n",
      "tensor([[0.7637, 1.7219, 0.5551, 1.8242],\n",
      "        [1.9960, 1.6855, 1.5735, 1.3722]])\n",
      "----\n",
      "tensor([[0.7637, 1.7219, 0.5551, 1.8242],\n",
      "        [1.9960, 1.6855, 1.5735, 1.3722]])\n"
     ]
    }
   ],
   "source": [
    "# broadcast\n",
    "\n",
    "rand = torch.rand(2,4)\n",
    "doubled = rand * (torch.ones(1,4) * 2)\n",
    "print(rand)\n",
    "print('----')\n",
    "print(doubled)\n",
    "print('----')\n",
    "print(rand*2)"
   ]
  },
  {
   "cell_type": "code",
   "execution_count": 62,
   "id": "845b25ee-2623-4ab0-8a57-d636f5000612",
   "metadata": {},
   "outputs": [
    {
     "name": "stdout",
     "output_type": "stream",
     "text": [
      "tensor([[ 1.8084,  0.8967, -0.0055,  0.4031],\n",
      "        [ 0.9110,  2.2419,  0.8538,  0.4930]])\n",
      "tensor([[1.8084, 0.8967, 0.0055, 0.4031],\n",
      "        [0.9110, 2.2419, 0.8538, 0.4930]])\n",
      "tensor([[2., 1., -0., 1.],\n",
      "        [1., 3., 1., 1.]])\n",
      "tensor([[ 1.,  0., -1.,  0.],\n",
      "        [ 0.,  2.,  0.,  0.]])\n",
      "tensor([[ 0.5000,  0.5000, -0.0055,  0.4031],\n",
      "        [ 0.5000,  0.5000,  0.5000,  0.4930]])\n"
     ]
    }
   ],
   "source": [
    "a = torch.rand(2,4) * 4 - 1\n",
    "print(a)\n",
    "print(torch.abs(a))\n",
    "print(torch.ceil(a))\n",
    "print(torch.floor(a))\n",
    "print(torch.clamp(a, -0.5,0.5))"
   ]
  },
  {
   "cell_type": "code",
   "execution_count": 63,
   "id": "356e641d-9331-4c71-9165-d17521ae8a59",
   "metadata": {},
   "outputs": [
    {
     "name": "stdout",
     "output_type": "stream",
     "text": [
      "tensor(1.2910)\n"
     ]
    }
   ],
   "source": [
    "d = torch.tensor([[1.,2.],[3.,4.]])\n",
    "print(torch.std(d))"
   ]
  },
  {
   "cell_type": "code",
   "execution_count": 66,
   "id": "f79c4dd6-dfab-4c6f-a662-488d62942468",
   "metadata": {},
   "outputs": [],
   "source": [
    "# copy\n",
    "\n",
    "a = torch.ones(2,2)\n",
    "b = a"
   ]
  },
  {
   "cell_type": "code",
   "execution_count": 69,
   "id": "30d47447-2c4a-4d69-9fa6-a9b3276ff8e9",
   "metadata": {},
   "outputs": [
    {
     "name": "stdout",
     "output_type": "stream",
     "text": [
      "tensor([[ 1., 69.],\n",
      "        [ 1.,  1.]])\n",
      "tensor([[ 1., 69.],\n",
      "        [ 1.,  1.]])\n"
     ]
    }
   ],
   "source": [
    "a[0][1] = 69\n",
    "print(a)\n",
    "print(b)"
   ]
  },
  {
   "cell_type": "code",
   "execution_count": 70,
   "id": "79c55449-1a61-45bf-869c-42a16a3211eb",
   "metadata": {},
   "outputs": [],
   "source": [
    "# without modify other\n",
    "\n",
    "a = torch.ones(2,2)\n",
    "b = a.clone()\n",
    "\n",
    "a[0][1] = 69"
   ]
  },
  {
   "cell_type": "code",
   "execution_count": 71,
   "id": "544359ee-83f7-4508-bd1e-915759aa9674",
   "metadata": {},
   "outputs": [
    {
     "name": "stdout",
     "output_type": "stream",
     "text": [
      "tensor([[ 1., 69.],\n",
      "        [ 1.,  1.]])\n",
      "tensor([[1., 1.],\n",
      "        [1., 1.]])\n"
     ]
    }
   ],
   "source": [
    "print(a)\n",
    "print(b)"
   ]
  },
  {
   "cell_type": "code",
   "execution_count": 74,
   "id": "ac1c8fd9-3fe2-45d1-864a-9af658fb9759",
   "metadata": {},
   "outputs": [
    {
     "name": "stdout",
     "output_type": "stream",
     "text": [
      "torch.Size([3, 256, 256])\n",
      "torch.Size([1, 3, 256, 256])\n"
     ]
    }
   ],
   "source": [
    "# shape manipulation\n",
    "a = torch.rand(3,256,256)\n",
    "b = a.unsqueeze(0)\n",
    "\n",
    "print(a.shape)\n",
    "print(b.shape)"
   ]
  },
  {
   "cell_type": "code",
   "execution_count": 75,
   "id": "96769a47-97d6-44c1-b94c-29d120efffa1",
   "metadata": {},
   "outputs": [
    {
     "name": "stdout",
     "output_type": "stream",
     "text": [
      "tensor([[[[[0.2359]]]]])\n"
     ]
    }
   ],
   "source": [
    "c = torch.rand(1, 1, 1, 1, 1)\n",
    "print(c)"
   ]
  },
  {
   "cell_type": "code",
   "execution_count": null,
   "id": "7b812732-4a1a-4665-ac73-6e4874e8daaa",
   "metadata": {},
   "outputs": [],
   "source": []
  }
 ],
 "metadata": {
  "kernelspec": {
   "display_name": "Python 3 (ipykernel)",
   "language": "python",
   "name": "python3"
  },
  "language_info": {
   "codemirror_mode": {
    "name": "ipython",
    "version": 3
   },
   "file_extension": ".py",
   "mimetype": "text/x-python",
   "name": "python",
   "nbconvert_exporter": "python",
   "pygments_lexer": "ipython3",
   "version": "3.8.10"
  }
 },
 "nbformat": 4,
 "nbformat_minor": 5
}
